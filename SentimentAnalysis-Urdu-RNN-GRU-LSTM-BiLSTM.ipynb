{
 "cells": [
  {
   "cell_type": "code",
   "execution_count": 165,
   "metadata": {},
   "outputs": [],
   "source": [
    "import pandas as pd\n",
    "import matplotlib.pyplot as plt\n",
    "import numpy as np\n",
    "import re"
   ]
  },
  {
   "cell_type": "markdown",
   "metadata": {},
   "source": [
    "**PREPROCESSING_CLEANING**"
   ]
  },
  {
   "cell_type": "code",
   "execution_count": 166,
   "metadata": {},
   "outputs": [],
   "source": [
    "df=pd.read_csv('D:/Semester 6/NLP/Assignment #3/urdu-sentiment-corpus-v1.tsv', sep='\\t', header=0)\n",
    "df = df[df['Class'] != 'O'] #dropping O as i will do binary classification"
   ]
  },
  {
   "cell_type": "code",
   "execution_count": 167,
   "metadata": {},
   "outputs": [
    {
     "name": "stdout",
     "output_type": "stream",
     "text": [
      "Class\n",
      "N    499\n",
      "P    480\n",
      "Name: count, dtype: int64\n"
     ]
    }
   ],
   "source": [
    "print(df['Class'].value_counts())\n",
    "df.loc[df['Class'] == 'N', 'Class'] = 0\n",
    "df.loc[df['Class'] == 'P', 'Class'] = 1"
   ]
  },
  {
   "cell_type": "code",
   "execution_count": 168,
   "metadata": {},
   "outputs": [
    {
     "data": {
      "text/plain": [
       "Class\n",
       "0    499\n",
       "1    480\n",
       "Name: count, dtype: int64"
      ]
     },
     "execution_count": 168,
     "metadata": {},
     "output_type": "execute_result"
    }
   ],
   "source": [
    "df['Class'].value_counts()"
   ]
  },
  {
   "cell_type": "code",
   "execution_count": 169,
   "metadata": {},
   "outputs": [
    {
     "name": "stdout",
     "output_type": "stream",
     "text": [
      "Tweet    0\n",
      "Class    1\n",
      "dtype: int64\n",
      "Tweet    0\n",
      "Class    0\n",
      "dtype: int64\n",
      "                                               Tweet Class\n",
      "0  میں نے ایٹم بم بنایا ھے ۔۔۔۔او بھائی ایٹم بمب ...     1\n",
      "1  چندے سے انقلاب اور عمران خان وزیر اعظم نہیں بن...     0\n",
      "3  سرچ انجن گوگل کے نائب صدر نے فضا میں ، 130,000...     1\n",
      "4    ابھی تک اسکی لہریں کبھی کبھی آ جاتی ہیں یار :أْ     1\n",
      "5   گندی زبان اور گٹر جیسے دماغ والے جاهل جیالے ه...     0\n"
     ]
    }
   ],
   "source": [
    "print(df.isnull().sum())\n",
    "df=df.dropna()\n",
    "print(df.isnull().sum())\n",
    "print(df.head(5))"
   ]
  },
  {
   "cell_type": "code",
   "execution_count": 170,
   "metadata": {},
   "outputs": [
    {
     "data": {
      "image/png": "[encoded data removed]",
      "text/plain": [
       "<Figure size 800x600 with 1 Axes>"
      ]
     },
     "metadata": {},
     "output_type": "display_data"
    }
   ],
   "source": [
    "class_counts = df['Class'].value_counts()\n",
    "plt.figure(figsize=(8, 6))\n",
    "plt.pie(class_counts, labels=class_counts.index, autopct='%1.1f%%', startangle=140)\n",
    "plt.title('Class Distribution')\n",
    "plt.axis('equal')  \n",
    "plt.show()\n"
   ]
  },
  {
   "cell_type": "code",
   "execution_count": 171,
   "metadata": {},
   "outputs": [
    {
     "data": {
      "text/html": [
       "<div>\n",
       "<style scoped>\n",
       "    .dataframe tbody tr th:only-of-type {\n",
       "        vertical-align: middle;\n",
       "    }\n",
       "\n",
       "    .dataframe tbody tr th {\n",
       "        vertical-align: top;\n",
       "    }\n",
       "\n",
       "    .dataframe thead th {\n",
       "        text-align: right;\n",
       "    }\n",
       "</style>\n",
       "<table border=\"1\" class=\"dataframe\">\n",
       "  <thead>\n",
       "    <tr style=\"text-align: right;\">\n",
       "      <th></th>\n",
       "      <th>Tweet</th>\n",
       "      <th>Class</th>\n",
       "    </tr>\n",
       "  </thead>\n",
       "  <tbody>\n",
       "    <tr>\n",
       "      <th>0</th>\n",
       "      <td>ایٹمی کی کہوٹہ بم بنتاایٹم نہیں میں فیکٹری اتف...</td>\n",
       "      <td>1</td>\n",
       "    </tr>\n",
       "    <tr>\n",
       "      <th>1</th>\n",
       "      <td>سکت بن نہیں اعظم وزیر خان عمران اور انقلاب س چند</td>\n",
       "      <td>0</td>\n",
       "    </tr>\n",
       "    <tr>\n",
       "      <th>3</th>\n",
       "      <td>کی چھلانگ کرلیا قائم ریکارڈ عالمی کر لگا چھلان...</td>\n",
       "      <td>1</td>\n",
       "    </tr>\n",
       "    <tr>\n",
       "      <th>4</th>\n",
       "      <td>أْ یار ہیں جاتی آ کبھی کبھی لہریں اسکی تک ابھی</td>\n",
       "      <td>1</td>\n",
       "    </tr>\n",
       "    <tr>\n",
       "      <th>5</th>\n",
       "      <td>نهیں ممکن یه هو نه جاهل اور هو جیالا تم هو جیا...</td>\n",
       "      <td>0</td>\n",
       "    </tr>\n",
       "  </tbody>\n",
       "</table>\n",
       "</div>"
      ],
      "text/plain": [
       "                                               Tweet Class\n",
       "0  ایٹمی کی کہوٹہ بم بنتاایٹم نہیں میں فیکٹری اتف...     1\n",
       "1   سکت بن نہیں اعظم وزیر خان عمران اور انقلاب س چند     0\n",
       "3  کی چھلانگ کرلیا قائم ریکارڈ عالمی کر لگا چھلان...     1\n",
       "4     أْ یار ہیں جاتی آ کبھی کبھی لہریں اسکی تک ابھی     1\n",
       "5  نهیں ممکن یه هو نه جاهل اور هو جیالا تم هو جیا...     0"
      ]
     },
     "execution_count": 171,
     "metadata": {},
     "output_type": "execute_result"
    }
   ],
   "source": [
    "df['Tweet'] = df['Tweet'].apply(lambda x: re.sub(r'[^آ-ی\\s]', '', x)) # removing everything except alpha values\n",
    "\n",
    "def reverse_urdu(row):\n",
    "    words = row.split() #split the words \n",
    "    reversed_sentence = ' '.join(reversed(words))  # reverse and rejoin\n",
    "    return reversed_sentence\n",
    "\n",
    "df['Tweet'] = df['Tweet'].apply(reverse_urdu)\n",
    "df.head(5)"
   ]
  },
  {
   "cell_type": "code",
   "execution_count": 172,
   "metadata": {},
   "outputs": [],
   "source": [
    "stopwordsssssss=set([\n",
    "    \"کوئی\", \"نہیں\", \"کہ\", \"کر\", \"جائیں\", \"مجھے\", \"یہ\", \"بہت\", \"ہے\", \"سچ\", \n",
    "    \"تو\", \"میری\", \"کی\", \"آواز\", \"آجاتی\", \"ایک\", \"سے\", \"پورا\", \"کاسہ\", \"ڈالا\"\n",
    "])\n",
    "\n",
    "df['Tweet'] = df['Tweet'].apply(lambda x: ' '.join(word for word in x.split() if word not in stopwordsssssss))  # Remove stop words"
   ]
  },
  {
   "cell_type": "markdown",
   "metadata": {},
   "source": [
    "**DATA_PREPARATION**"
   ]
  },
  {
   "cell_type": "code",
   "execution_count": 173,
   "metadata": {},
   "outputs": [],
   "source": [
    "from sklearn.model_selection import train_test_split\n",
    "\n",
    "X = df['Tweet'].values\n",
    "y = df['Class'].values.astype(\"int32\")\n",
    "X_train, X_test, y_train, y_test = train_test_split(X, y, test_size=0.25, random_state=42)"
   ]
  },
  {
   "cell_type": "code",
   "execution_count": 174,
   "metadata": {},
   "outputs": [
    {
     "name": "stdout",
     "output_type": "stream",
     "text": [
      "3715\n"
     ]
    }
   ],
   "source": [
    "from tensorflow.keras.preprocessing.text import Tokenizer\n",
    "\n",
    "max_words=4000\n",
    "tokenizer = Tokenizer(num_words=4000) #sligtly larger value than the actual number of unique words\n",
    "tokenizer.fit_on_texts(X_train)\n",
    "\n",
    "X_train_seq = tokenizer.texts_to_sequences(X_train)\n",
    "X_test_seq = tokenizer.texts_to_sequences(X_test)\n",
    "\n",
    "num_unique_words = len(tokenizer.word_index)\n",
    "print(num_unique_words)"
   ]
  },
  {
   "cell_type": "code",
   "execution_count": 175,
   "metadata": {},
   "outputs": [
    {
     "name": "stdout",
     "output_type": "stream",
     "text": [
      "15.183861082737486\n"
     ]
    }
   ],
   "source": [
    "average_words_per_row = df['Tweet'].apply(lambda x: len(x.split())).mean() #will use this to determine padding maximum length\n",
    "print(average_words_per_row)"
   ]
  },
  {
   "cell_type": "code",
   "execution_count": null,
   "metadata": {},
   "outputs": [],
   "source": [
    "from tensorflow.keras.preprocessing.sequence import pad_sequences\n",
    "\n",
    "max_len = 25  \n",
    "X_train_pad = pad_sequences(X_train_seq, maxlen=max_len)\n",
    "X_test_pad = pad_sequences(X_test_seq, maxlen=max_len)"
   ]
  },
  {
   "cell_type": "code",
   "execution_count": null,
   "metadata": {},
   "outputs": [],
   "source": [
    "from tensorflow.keras.utils import to_categorical\n",
    "\n",
    "num_classes=2\n",
    "y_train_cat = to_categorical(y_train, num_classes=num_classes)\n",
    "y_test_cat = to_categorical(y_test, num_classes=num_classes)\n",
    "y_test = y_test.astype(int)"
   ]
  },
  {
   "cell_type": "markdown",
   "metadata": {},
   "source": [
    "**HELPING_FUNCTIONS**"
   ]
  },
  {
   "cell_type": "code",
   "execution_count": 177,
   "metadata": {},
   "outputs": [],
   "source": [
    "from sklearn.metrics import accuracy_score, precision_score, recall_score, f1_score\n",
    "\n",
    "def evaluate_model(y_true, y_pred):\n",
    "    accuracy = accuracy_score(y_true, y_pred)\n",
    "    precision = precision_score(y_true, y_pred, average='binary', zero_division=1)\n",
    "    recall = recall_score(y_true, y_pred, average='binary', zero_division=1)\n",
    "    f1 = f1_score(y_true, y_pred, average='binary', zero_division=1)\n",
    "    return accuracy, precision, recall, f1\n"
   ]
  },
  {
   "cell_type": "code",
   "execution_count": null,
   "metadata": {},
   "outputs": [],
   "source": [
    "def Run_Model(model_creator):\n",
    "    results = []\n",
    "\n",
    "    layers = [2, 3]\n",
    "    dropout_rates = [0.3, 0.7]\n",
    "    \n",
    "    for layer in layers:\n",
    "        for dropout in dropout_rates:\n",
    "            model = model_creator(layer, dropout)\n",
    "            y_pred_prob = model.predict(X_test_pad)\n",
    "            y_pred = np.argmax(y_pred_prob, axis=1)\n",
    "            y_pred = y_pred.astype(int)\n",
    "            \n",
    "            accuracy, precision, recall, f1 = evaluate_model(y_test, y_pred)\n",
    "\n",
    "            results.append({\n",
    "                'Layers': layer,\n",
    "                'Dropout': dropout,\n",
    "                'Accuracy': accuracy,\n",
    "                'Precision': precision,\n",
    "                'Recall': recall,\n",
    "                'F1-score': f1\n",
    "            })\n",
    "\n",
    "    return pd.DataFrame(results)"
   ]
  },
  {
   "cell_type": "markdown",
   "metadata": {},
   "source": [
    "**LSTM_MODEL**"
   ]
  },
  {
   "cell_type": "code",
   "execution_count": 181,
   "metadata": {},
   "outputs": [],
   "source": [
    "from tensorflow.keras.models import Sequential\n",
    "from tensorflow.keras.layers import Embedding, LSTM, Dense, Dropout\n",
    "\n",
    "def create_train_model_LSTM(layers, dropout):\n",
    "    model = Sequential()\n",
    "    model.add(Embedding(max_words, 100, input_length=max_len)) #using 100 so it captures some more relationship our corpus is to small\n",
    "    for _ in range(layers):\n",
    "        model.add(LSTM(64, dropout=dropout, return_sequences=True))\n",
    "    model.add(LSTM(64, dropout=dropout))\n",
    "    model.add(Dense(2, activation='sigmoid')) #using 2 neuron dense layer because of binary classification \n",
    "    model.compile(optimizer='adam', loss='binary_crossentropy', metrics=['accuracy'])\n",
    "    model.fit(X_train_pad, y_train_cat, epochs=5, batch_size=128, verbose=0)\n",
    "    return model"
   ]
  },
  {
   "cell_type": "code",
   "execution_count": 182,
   "metadata": {},
   "outputs": [
    {
     "name": "stdout",
     "output_type": "stream",
     "text": [
      "8/8 [==============================] - 2s 6ms/step\n",
      "8/8 [==============================] - 1s 6ms/step\n",
      "8/8 [==============================] - 1s 7ms/step\n",
      "8/8 [==============================] - 1s 8ms/step\n",
      "   Layers  Dropout  Accuracy  Precision    Recall  F1-score\n",
      "0       2      0.3  0.628571   0.693548  0.373913  0.485876\n",
      "1       2      0.7  0.567347   0.524590  0.834783  0.644295\n",
      "2       3      0.3  0.510204   0.489083  0.973913  0.651163\n",
      "3       3      0.7  0.522449   0.494898  0.843478  0.623794\n"
     ]
    }
   ],
   "source": [
    "LSTM_results = Run_Model(create_train_model_LSTM)\n",
    "print(LSTM_results)"
   ]
  },
  {
   "cell_type": "markdown",
   "metadata": {},
   "source": [
    "**BILSTM_MODEL**"
   ]
  },
  {
   "cell_type": "code",
   "execution_count": 183,
   "metadata": {},
   "outputs": [],
   "source": [
    "from tensorflow.keras.layers import Bidirectional, LSTM\n",
    "\n",
    "def create_train_model_BILSTM(layers, dropout):\n",
    "    model = Sequential()\n",
    "    model.add(Embedding(max_words, 100, input_length=max_len))\n",
    "    for _ in range(layers): \n",
    "        model.add(Bidirectional(LSTM(64, dropout=dropout, return_sequences=True)))\n",
    "    model.add(Bidirectional(LSTM(64, dropout=dropout)))\n",
    "    model.add(Dense(2, activation='sigmoid'))\n",
    "    model.compile(optimizer='adam', loss='binary_crossentropy', metrics=['accuracy'])\n",
    "    model.fit(X_train_pad, y_train_cat, epochs=5, batch_size=128, verbose=0)\n",
    "    return model"
   ]
  },
  {
   "cell_type": "code",
   "execution_count": 184,
   "metadata": {},
   "outputs": [
    {
     "name": "stdout",
     "output_type": "stream",
     "text": [
      "8/8 [==============================] - 2s 12ms/step\n",
      "8/8 [==============================] - 2s 13ms/step\n",
      "8/8 [==============================] - 3s 17ms/step\n",
      "8/8 [==============================] - 2s 13ms/step\n",
      "   Layers  Dropout  Accuracy  Precision    Recall  F1-score\n",
      "0       2      0.3  0.591837   0.546584  0.765217  0.637681\n",
      "1       2      0.7  0.624490   0.632184  0.478261  0.544554\n",
      "2       3      0.3  0.628571   0.650000  0.452174  0.533333\n",
      "3       3      0.7  0.608163   0.702128  0.286957  0.407407\n"
     ]
    }
   ],
   "source": [
    "BILSTM_results = Run_Model(create_train_model_BILSTM)\n",
    "print(BILSTM_results)"
   ]
  },
  {
   "cell_type": "markdown",
   "metadata": {},
   "source": [
    "**RNN_MODEL**"
   ]
  },
  {
   "cell_type": "code",
   "execution_count": 185,
   "metadata": {},
   "outputs": [],
   "source": [
    "from tensorflow.keras.layers import SimpleRNN\n",
    "\n",
    "def create_train_model_RNN(layers, dropout):\n",
    "    model = Sequential()\n",
    "    model.add(Embedding(max_words, 100, input_length=max_len))\n",
    "    for _ in range(layers):\n",
    "        model.add(SimpleRNN(64, dropout=dropout, return_sequences=True))\n",
    "    model.add(SimpleRNN(64, dropout=dropout))\n",
    "    model.add(Dense(2, activation='sigmoid'))\n",
    "    model.compile(optimizer='adam', loss='binary_crossentropy', metrics=['accuracy'])\n",
    "    model.fit(X_train_pad, y_train_cat, epochs=5, batch_size=128, verbose=0)\n",
    "    return model\n"
   ]
  },
  {
   "cell_type": "code",
   "execution_count": 186,
   "metadata": {},
   "outputs": [
    {
     "name": "stdout",
     "output_type": "stream",
     "text": [
      "8/8 [==============================] - 0s 14ms/step\n",
      "8/8 [==============================] - 0s 13ms/step\n",
      "8/8 [==============================] - 1s 14ms/step\n",
      "8/8 [==============================] - 1s 15ms/step\n",
      "   Layers  Dropout  Accuracy  Precision    Recall  F1-score\n",
      "0       2      0.3  0.518367   0.491620  0.765217  0.598639\n",
      "1       2      0.7  0.465306   0.462617  0.860870  0.601824\n",
      "2       3      0.3  0.526531   0.496970  0.713043  0.585714\n",
      "3       3      0.7  0.522449   0.466667  0.121739  0.193103\n"
     ]
    }
   ],
   "source": [
    "RNN_results = Run_Model(create_train_model_RNN)\n",
    "print(RNN_results)"
   ]
  },
  {
   "cell_type": "markdown",
   "metadata": {},
   "source": [
    "**GRU_MODEL**"
   ]
  },
  {
   "cell_type": "code",
   "execution_count": 187,
   "metadata": {},
   "outputs": [],
   "source": [
    "from tensorflow.keras.layers import GRU\n",
    "\n",
    "def create_train_model_GRU(layers, dropout):\n",
    "    model = Sequential()\n",
    "    model.add(Embedding(max_words, 100, input_length=max_len))\n",
    "    for _ in range(layers):\n",
    "        model.add(GRU(64, dropout=dropout, return_sequences=True))\n",
    "    model.add(GRU(64, dropout=dropout))\n",
    "    model.add(Dense(2, activation='sigmoid'))\n",
    "    model.compile(optimizer='adam', loss='binary_crossentropy', metrics=['accuracy'])\n",
    "    return model\n"
   ]
  },
  {
   "cell_type": "code",
   "execution_count": 188,
   "metadata": {},
   "outputs": [
    {
     "name": "stdout",
     "output_type": "stream",
     "text": [
      "8/8 [==============================] - 1s 8ms/step\n",
      "8/8 [==============================] - 1s 8ms/step\n",
      "8/8 [==============================] - 1s 9ms/step\n",
      "8/8 [==============================] - 1s 11ms/step\n",
      "   Layers  Dropout  Accuracy  Precision    Recall  F1-score\n",
      "0       2      0.3  0.453061   0.412844  0.391304  0.401786\n",
      "1       2      0.7  0.526531   0.496241  0.573913  0.532258\n",
      "2       3      0.3  0.551020   0.526882  0.426087  0.471154\n",
      "3       3      0.7  0.518367   0.488889  0.573913  0.528000\n"
     ]
    }
   ],
   "source": [
    "GRU_results = Run_Model(create_train_model_GRU)\n",
    "print(GRU_results)"
   ]
  },
  {
   "cell_type": "markdown",
   "metadata": {},
   "source": [
    "**COMPARISON_MODEL**"
   ]
  },
  {
   "cell_type": "code",
   "execution_count": 205,
   "metadata": {},
   "outputs": [
    {
     "data": {
      "image/png": "[encoded data removed]",
      "text/plain": [
       "<Figure size 1000x700 with 1 Axes>"
      ]
     },
     "metadata": {},
     "output_type": "display_data"
    }
   ],
   "source": [
    "import pandas as pd\n",
    "import matplotlib.pyplot as plt\n",
    "import numpy as np\n",
    "\n",
    "dfs = [LSTM_results,BILSTM_results,RNN_results,GRU_results]\n",
    "names=['LSTM','BILSTM','RNN','GRU']\n",
    "i=0\n",
    "\n",
    "merged_df = pd.concat(dfs)\n",
    "\n",
    "\n",
    "grouped_df = merged_df.groupby(['Layers', 'Dropout'])\n",
    "\n",
    "\n",
    "bar_width = 0.2\n",
    "opacity = 0.8\n",
    "index = np.arange(len(grouped_df))\n",
    "\n",
    "plt.figure(figsize=(10, 7))\n",
    "\n",
    "for i, ((layer, dropout), group) in enumerate(grouped_df):\n",
    "    plt.bar(index + i * bar_width, group['Accuracy'], bar_width, alpha=opacity, label=names[i])\n",
    "    i+1\n",
    "\n",
    "plt.xlabel('Model Configurations (Layers and Dropout)')\n",
    "plt.ylabel('Accuracy')\n",
    "plt.title('Comparison of Accuracy for Different Models')\n",
    "plt.xticks(index + bar_width * (len(dfs) - 1) / 2, [f'Layers: {layer}, Dropout: {dropout}' for (layer, dropout), _ in grouped_df], rotation=45)\n",
    "plt.legend()\n",
    "\n",
    "plt.tight_layout()\n",
    "plt.show()\n"
   ]
  },
  {
   "cell_type": "code",
   "execution_count": 206,
   "metadata": {},
   "outputs": [
    {
     "data": {
      "image/png": "[encoded data removed]",
      "text/plain": [
       "<Figure size 1000x700 with 1 Axes>"
      ]
     },
     "metadata": {},
     "output_type": "display_data"
    }
   ],
   "source": [
    "import pandas as pd\n",
    "import matplotlib.pyplot as plt\n",
    "import numpy as np\n",
    "\n",
    "dfs = [LSTM_results,BILSTM_results,RNN_results,GRU_results]\n",
    "names=['LSTM','BILSTM','RNN','GRU']\n",
    "i=0\n",
    "\n",
    "merged_df = pd.concat(dfs)\n",
    "\n",
    "\n",
    "grouped_df = merged_df.groupby(['Layers', 'Dropout'])\n",
    "\n",
    "\n",
    "bar_width = 0.2\n",
    "opacity = 0.8\n",
    "index = np.arange(len(grouped_df))\n",
    "\n",
    "plt.figure(figsize=(10, 7))\n",
    "\n",
    "for i, ((layer, dropout), group) in enumerate(grouped_df):\n",
    "    plt.bar(index + i * bar_width, group['F1-score'], bar_width, alpha=opacity, label=names[i])\n",
    "    i+1\n",
    "\n",
    "plt.xlabel('Model Configurations (Layers and Dropout)')\n",
    "plt.ylabel('F1-score')\n",
    "plt.title('Comparison of F1-score for Different Models')\n",
    "plt.xticks(index + bar_width * (len(dfs) - 1) / 2, [f'Layers: {layer}, Dropout: {dropout}' for (layer, dropout), _ in grouped_df], rotation=45)\n",
    "plt.legend()\n",
    "\n",
    "plt.tight_layout()\n",
    "plt.show()\n"
   ]
  }
 ],
 "metadata": {
  "kernelspec": {
   "display_name": "tf_gpu",
   "language": "python",
   "name": "python3"
  },
  "language_info": {
   "codemirror_mode": {
    "name": "ipython",
    "version": 3
   },
   "file_extension": ".py",
   "mimetype": "text/x-python",
   "name": "python",
   "nbconvert_exporter": "python",
   "pygments_lexer": "ipython3",
   "version": "3.10.13"
  }
 },
 "nbformat": 4,
 "nbformat_minor": 2
}
